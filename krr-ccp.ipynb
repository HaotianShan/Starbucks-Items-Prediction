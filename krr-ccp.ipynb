{
 "cells": [
  {
   "cell_type": "markdown",
   "id": "e765b868",
   "metadata": {
    "papermill": {
     "duration": 0.003725,
     "end_time": "2024-01-11T04:23:59.376681",
     "exception": false,
     "start_time": "2024-01-11T04:23:59.372956",
     "status": "completed"
    },
    "tags": []
   },
   "source": [
    "# **Knowledge Representation & Reasoning - Complex Computing Activity**\n"
   ]
  },
  {
   "cell_type": "markdown",
   "id": "e28fde1a",
   "metadata": {
    "papermill": {
     "duration": 0.002954,
     "end_time": "2024-01-11T04:23:59.383051",
     "exception": false,
     "start_time": "2024-01-11T04:23:59.380097",
     "status": "completed"
    },
    "tags": []
   },
   "source": [
    "**Muneeza Iftikhar** \n",
    "**02-136212-012**\n",
    "**BS(AI) - 5A**"
   ]
  },
  {
   "cell_type": "code",
   "execution_count": 1,
   "id": "ac6b6219",
   "metadata": {
    "execution": {
     "iopub.execute_input": "2024-01-11T04:23:59.390735Z",
     "iopub.status.busy": "2024-01-11T04:23:59.390391Z",
     "iopub.status.idle": "2024-01-11T04:24:01.219349Z",
     "shell.execute_reply": "2024-01-11T04:24:01.218421Z"
    },
    "papermill": {
     "duration": 1.835112,
     "end_time": "2024-01-11T04:24:01.221221",
     "exception": false,
     "start_time": "2024-01-11T04:23:59.386109",
     "status": "completed"
    },
    "tags": []
   },
   "outputs": [
    {
     "name": "stdout",
     "output_type": "stream",
     "text": [
      "/kaggle/input/starbucks/starbucks.csv\n",
      "/kaggle/input/retail-sales-dataset/retail_sales_dataset.csv\n"
     ]
    }
   ],
   "source": [
    "import numpy as np # linear algebra\n",
    "import pandas as pd # data processing, CSV file I/O (e.g. pd.read_csv)\n",
    "from sklearn.preprocessing import OneHotEncoder\n",
    "\n",
    "\n",
    "import os\n",
    "for dirname, _, filenames in os.walk('/kaggle/input'):\n",
    "    for filename in filenames:\n",
    "        print(os.path.join(dirname, filename))\n",
    "\n"
   ]
  },
  {
   "cell_type": "markdown",
   "id": "326d7cc6",
   "metadata": {
    "papermill": {
     "duration": 0.002969,
     "end_time": "2024-01-11T04:24:01.227778",
     "exception": false,
     "start_time": "2024-01-11T04:24:01.224809",
     "status": "completed"
    },
    "tags": []
   },
   "source": [
    "# **Gaussian Naive Bayes Classifier**"
   ]
  },
  {
   "cell_type": "markdown",
   "id": "0dd788f8",
   "metadata": {
    "papermill": {
     "duration": 0.003614,
     "end_time": "2024-01-11T04:24:01.234534",
     "exception": false,
     "start_time": "2024-01-11T04:24:01.230920",
     "status": "completed"
    },
    "tags": []
   },
   "source": [
    "Using the starbucks dataset for calculating the gaussian naive bayes classifier\n"
   ]
  },
  {
   "cell_type": "code",
   "execution_count": 2,
   "id": "9835c74e",
   "metadata": {
    "execution": {
     "iopub.execute_input": "2024-01-11T04:24:01.244102Z",
     "iopub.status.busy": "2024-01-11T04:24:01.242855Z",
     "iopub.status.idle": "2024-01-11T04:24:01.293968Z",
     "shell.execute_reply": "2024-01-11T04:24:01.292801Z"
    },
    "papermill": {
     "duration": 0.058633,
     "end_time": "2024-01-11T04:24:01.296771",
     "exception": false,
     "start_time": "2024-01-11T04:24:01.238138",
     "status": "completed"
    },
    "tags": []
   },
   "outputs": [
    {
     "data": {
      "text/html": [
       "<div>\n",
       "<style scoped>\n",
       "    .dataframe tbody tr th:only-of-type {\n",
       "        vertical-align: middle;\n",
       "    }\n",
       "\n",
       "    .dataframe tbody tr th {\n",
       "        vertical-align: top;\n",
       "    }\n",
       "\n",
       "    .dataframe thead th {\n",
       "        text-align: right;\n",
       "    }\n",
       "</style>\n",
       "<table border=\"1\" class=\"dataframe\">\n",
       "  <thead>\n",
       "    <tr style=\"text-align: right;\">\n",
       "      <th></th>\n",
       "      <th>Beverage_category</th>\n",
       "      <th>Beverage</th>\n",
       "      <th>Beverage_prep</th>\n",
       "      <th>Calories</th>\n",
       "      <th>Total Fat (g)</th>\n",
       "      <th>Trans Fat (g)</th>\n",
       "      <th>Saturated Fat (g)</th>\n",
       "      <th>Sodium (mg)</th>\n",
       "      <th>Total Carbohydrates (g)</th>\n",
       "      <th>Cholesterol (mg)</th>\n",
       "      <th>Dietary Fibre (g)</th>\n",
       "      <th>Sugars (g)</th>\n",
       "      <th>Protein (g)</th>\n",
       "      <th>Vitamin A (% DV)</th>\n",
       "      <th>Vitamin C (% DV)</th>\n",
       "      <th>Calcium (% DV)</th>\n",
       "      <th>Iron (% DV)</th>\n",
       "      <th>Caffeine (mg)</th>\n",
       "    </tr>\n",
       "  </thead>\n",
       "  <tbody>\n",
       "    <tr>\n",
       "      <th>0</th>\n",
       "      <td>Coffee</td>\n",
       "      <td>Brewed Coffee</td>\n",
       "      <td>Short</td>\n",
       "      <td>3</td>\n",
       "      <td>0.1</td>\n",
       "      <td>0.0</td>\n",
       "      <td>0.0</td>\n",
       "      <td>0</td>\n",
       "      <td>5</td>\n",
       "      <td>0</td>\n",
       "      <td>0</td>\n",
       "      <td>0</td>\n",
       "      <td>0.3</td>\n",
       "      <td>0%</td>\n",
       "      <td>0%</td>\n",
       "      <td>0%</td>\n",
       "      <td>0%</td>\n",
       "      <td>175</td>\n",
       "    </tr>\n",
       "    <tr>\n",
       "      <th>1</th>\n",
       "      <td>Coffee</td>\n",
       "      <td>Brewed Coffee</td>\n",
       "      <td>Tall</td>\n",
       "      <td>4</td>\n",
       "      <td>0.1</td>\n",
       "      <td>0.0</td>\n",
       "      <td>0.0</td>\n",
       "      <td>0</td>\n",
       "      <td>10</td>\n",
       "      <td>0</td>\n",
       "      <td>0</td>\n",
       "      <td>0</td>\n",
       "      <td>0.5</td>\n",
       "      <td>0%</td>\n",
       "      <td>0%</td>\n",
       "      <td>0%</td>\n",
       "      <td>0%</td>\n",
       "      <td>260</td>\n",
       "    </tr>\n",
       "    <tr>\n",
       "      <th>2</th>\n",
       "      <td>Coffee</td>\n",
       "      <td>Brewed Coffee</td>\n",
       "      <td>Grande</td>\n",
       "      <td>5</td>\n",
       "      <td>0.1</td>\n",
       "      <td>0.0</td>\n",
       "      <td>0.0</td>\n",
       "      <td>0</td>\n",
       "      <td>10</td>\n",
       "      <td>0</td>\n",
       "      <td>0</td>\n",
       "      <td>0</td>\n",
       "      <td>1.0</td>\n",
       "      <td>0%</td>\n",
       "      <td>0%</td>\n",
       "      <td>0%</td>\n",
       "      <td>0%</td>\n",
       "      <td>330</td>\n",
       "    </tr>\n",
       "    <tr>\n",
       "      <th>3</th>\n",
       "      <td>Coffee</td>\n",
       "      <td>Brewed Coffee</td>\n",
       "      <td>Venti</td>\n",
       "      <td>5</td>\n",
       "      <td>0.1</td>\n",
       "      <td>0.0</td>\n",
       "      <td>0.0</td>\n",
       "      <td>0</td>\n",
       "      <td>10</td>\n",
       "      <td>0</td>\n",
       "      <td>0</td>\n",
       "      <td>0</td>\n",
       "      <td>1.0</td>\n",
       "      <td>0%</td>\n",
       "      <td>0%</td>\n",
       "      <td>2%</td>\n",
       "      <td>0%</td>\n",
       "      <td>410</td>\n",
       "    </tr>\n",
       "    <tr>\n",
       "      <th>4</th>\n",
       "      <td>Classic Espresso Drinks</td>\n",
       "      <td>Caffè Latte</td>\n",
       "      <td>Short Nonfat Milk</td>\n",
       "      <td>70</td>\n",
       "      <td>0.1</td>\n",
       "      <td>0.1</td>\n",
       "      <td>0.0</td>\n",
       "      <td>5</td>\n",
       "      <td>75</td>\n",
       "      <td>10</td>\n",
       "      <td>0</td>\n",
       "      <td>9</td>\n",
       "      <td>6.0</td>\n",
       "      <td>10%</td>\n",
       "      <td>0%</td>\n",
       "      <td>20%</td>\n",
       "      <td>0%</td>\n",
       "      <td>75</td>\n",
       "    </tr>\n",
       "  </tbody>\n",
       "</table>\n",
       "</div>"
      ],
      "text/plain": [
       "         Beverage_category       Beverage      Beverage_prep  Calories  \\\n",
       "0                   Coffee  Brewed Coffee              Short         3   \n",
       "1                   Coffee  Brewed Coffee               Tall         4   \n",
       "2                   Coffee  Brewed Coffee             Grande         5   \n",
       "3                   Coffee  Brewed Coffee              Venti         5   \n",
       "4  Classic Espresso Drinks    Caffè Latte  Short Nonfat Milk        70   \n",
       "\n",
       "   Total Fat (g)  Trans Fat (g)   Saturated Fat (g)   Sodium (mg)  \\\n",
       "0            0.1             0.0                0.0             0   \n",
       "1            0.1             0.0                0.0             0   \n",
       "2            0.1             0.0                0.0             0   \n",
       "3            0.1             0.0                0.0             0   \n",
       "4            0.1             0.1                0.0             5   \n",
       "\n",
       "    Total Carbohydrates (g)   Cholesterol (mg)   Dietary Fibre (g)  \\\n",
       "0                          5                 0                   0   \n",
       "1                         10                 0                   0   \n",
       "2                         10                 0                   0   \n",
       "3                         10                 0                   0   \n",
       "4                         75                10                   0   \n",
       "\n",
       "    Sugars (g)   Protein (g)  Vitamin A (% DV)  Vitamin C (% DV)  \\\n",
       "0            0            0.3                0%               0%   \n",
       "1            0            0.5                0%               0%   \n",
       "2            0            1.0                0%               0%   \n",
       "3            0            1.0                0%               0%   \n",
       "4            9            6.0               10%               0%   \n",
       "\n",
       "   Calcium (% DV)  Iron (% DV)  Caffeine (mg)  \n",
       "0               0%           0%           175  \n",
       "1               0%           0%           260  \n",
       "2               0%           0%           330  \n",
       "3               2%           0%           410  \n",
       "4              20%           0%            75  "
      ]
     },
     "execution_count": 2,
     "metadata": {},
     "output_type": "execute_result"
    }
   ],
   "source": [
    "starbucks_data = pd.read_csv('/kaggle/input/starbucks/starbucks.csv')\n",
    "starbucks_data.head()"
   ]
  },
  {
   "cell_type": "code",
   "execution_count": 3,
   "id": "80a28b33",
   "metadata": {
    "execution": {
     "iopub.execute_input": "2024-01-11T04:24:01.306044Z",
     "iopub.status.busy": "2024-01-11T04:24:01.305682Z",
     "iopub.status.idle": "2024-01-11T04:24:01.315685Z",
     "shell.execute_reply": "2024-01-11T04:24:01.314691Z"
    },
    "papermill": {
     "duration": 0.016955,
     "end_time": "2024-01-11T04:24:01.317583",
     "exception": false,
     "start_time": "2024-01-11T04:24:01.300628",
     "status": "completed"
    },
    "tags": []
   },
   "outputs": [
    {
     "data": {
      "text/plain": [
       "Beverage_category            0\n",
       "Beverage                     0\n",
       "Beverage_prep                0\n",
       "Calories                     0\n",
       " Total Fat (g)               0\n",
       "Trans Fat (g)                0\n",
       "Saturated Fat (g)            0\n",
       " Sodium (mg)                 0\n",
       " Total Carbohydrates (g)     0\n",
       "Cholesterol (mg)             0\n",
       " Dietary Fibre (g)           0\n",
       " Sugars (g)                  0\n",
       " Protein (g)                 0\n",
       "Vitamin A (% DV)             0\n",
       "Vitamin C (% DV)             0\n",
       " Calcium (% DV)              0\n",
       "Iron (% DV)                  0\n",
       "Caffeine (mg)                1\n",
       "dtype: int64"
      ]
     },
     "execution_count": 3,
     "metadata": {},
     "output_type": "execute_result"
    }
   ],
   "source": [
    "starbucks_data.isnull().sum()"
   ]
  },
  {
   "cell_type": "code",
   "execution_count": 4,
   "id": "52e7cacc",
   "metadata": {
    "execution": {
     "iopub.execute_input": "2024-01-11T04:24:01.326722Z",
     "iopub.status.busy": "2024-01-11T04:24:01.326112Z",
     "iopub.status.idle": "2024-01-11T04:24:01.332811Z",
     "shell.execute_reply": "2024-01-11T04:24:01.331896Z"
    },
    "papermill": {
     "duration": 0.013246,
     "end_time": "2024-01-11T04:24:01.334581",
     "exception": false,
     "start_time": "2024-01-11T04:24:01.321335",
     "status": "completed"
    },
    "tags": []
   },
   "outputs": [
    {
     "data": {
      "text/plain": [
       "Index(['Beverage_category', 'Beverage', 'Beverage_prep', 'Calories',\n",
       "       ' Total Fat (g)', 'Trans Fat (g) ', 'Saturated Fat (g)', ' Sodium (mg)',\n",
       "       ' Total Carbohydrates (g) ', 'Cholesterol (mg)', ' Dietary Fibre (g)',\n",
       "       ' Sugars (g)', ' Protein (g) ', 'Vitamin A (% DV) ', 'Vitamin C (% DV)',\n",
       "       ' Calcium (% DV) ', 'Iron (% DV) ', 'Caffeine (mg)'],\n",
       "      dtype='object')"
      ]
     },
     "execution_count": 4,
     "metadata": {},
     "output_type": "execute_result"
    }
   ],
   "source": [
    "starbucks_data.columns"
   ]
  },
  {
   "cell_type": "code",
   "execution_count": 5,
   "id": "60796543",
   "metadata": {
    "execution": {
     "iopub.execute_input": "2024-01-11T04:24:01.343376Z",
     "iopub.status.busy": "2024-01-11T04:24:01.343044Z",
     "iopub.status.idle": "2024-01-11T04:24:01.369281Z",
     "shell.execute_reply": "2024-01-11T04:24:01.367535Z"
    },
    "papermill": {
     "duration": 0.03306,
     "end_time": "2024-01-11T04:24:01.371469",
     "exception": false,
     "start_time": "2024-01-11T04:24:01.338409",
     "status": "completed"
    },
    "tags": []
   },
   "outputs": [
    {
     "name": "stderr",
     "output_type": "stream",
     "text": [
      "/opt/conda/lib/python3.10/site-packages/sklearn/preprocessing/_encoders.py:868: FutureWarning: `sparse` was renamed to `sparse_output` in version 1.2 and will be removed in 1.4. `sparse_output` is ignored unless you leave `sparse` to its default value.\n",
      "  warnings.warn(\n"
     ]
    }
   ],
   "source": [
    "# Select relevant columns for the features (X) and target variable (y)\n",
    "features = ['Beverage_category', 'Calories', ' Total Fat (g)', 'Trans Fat (g) ', 'Saturated Fat (g)',\n",
    "            ' Sodium (mg)', ' Total Carbohydrates (g) ', 'Cholesterol (mg)', ' Dietary Fibre (g)',\n",
    "            ' Sugars (g)', ' Protein (g) ', 'Caffeine (mg)']\n",
    "\n",
    "# Extract features and target variable\n",
    "starbucks_data = starbucks_data[features]\n",
    "X = starbucks_data.drop('Beverage_category', axis=1)  # Features excluding the target variable\n",
    "y = starbucks_data['Beverage_category']  # Target variable\n",
    "\n",
    "# Clean up column names by removing leading/trailing spaces\n",
    "X.columns = X.columns.str.strip()\n",
    "\n",
    "# Perform one-hot encoding for categorical features\n",
    "encoder = OneHotEncoder(sparse=False, drop='first')\n",
    "X_encoded = pd.DataFrame(encoder.fit_transform(X.select_dtypes(include=['object'])))\n",
    "X_encoded.columns = encoder.get_feature_names_out(X.select_dtypes(include=['object']).columns)\n",
    "\n",
    "# Concatenate numerical and one-hot encoded features\n",
    "X = pd.concat([X.select_dtypes(exclude=['object']), X_encoded], axis=1)"
   ]
  },
  {
   "cell_type": "code",
   "execution_count": 6,
   "id": "65010ac3",
   "metadata": {
    "execution": {
     "iopub.execute_input": "2024-01-11T04:24:01.381235Z",
     "iopub.status.busy": "2024-01-11T04:24:01.380664Z",
     "iopub.status.idle": "2024-01-11T04:24:01.492033Z",
     "shell.execute_reply": "2024-01-11T04:24:01.490914Z"
    },
    "papermill": {
     "duration": 0.118774,
     "end_time": "2024-01-11T04:24:01.494310",
     "exception": false,
     "start_time": "2024-01-11T04:24:01.375536",
     "status": "completed"
    },
    "tags": []
   },
   "outputs": [
    {
     "name": "stdout",
     "output_type": "stream",
     "text": [
      "Gaussian Naive Bayes Accuracy: 0.5102040816326531\n"
     ]
    }
   ],
   "source": [
    "from sklearn.model_selection import train_test_split\n",
    "from sklearn.naive_bayes import GaussianNB\n",
    "from sklearn.metrics import accuracy_score\n",
    "\n",
    "# Split the data into training and testing sets\n",
    "X_train, X_test, y_train, y_test = train_test_split(X, y, test_size=0.2, random_state=42)\n",
    "\n",
    "# Create a Gaussian Naive Bayes classifier\n",
    "gnb = GaussianNB()\n",
    "\n",
    "# Train the classifier\n",
    "gnb.fit(X_train, y_train)\n",
    "\n",
    "# Make predictions on the test set\n",
    "y_pred = gnb.predict(X_test)\n",
    "\n",
    "# Evaluate the accuracy\n",
    "accuracy = accuracy_score(y_test, y_pred)\n",
    "print(f'Gaussian Naive Bayes Accuracy: {accuracy}')"
   ]
  },
  {
   "cell_type": "markdown",
   "id": "301d2e1c",
   "metadata": {
    "papermill": {
     "duration": 0.00358,
     "end_time": "2024-01-11T04:24:01.502078",
     "exception": false,
     "start_time": "2024-01-11T04:24:01.498498",
     "status": "completed"
    },
    "tags": []
   },
   "source": [
    "# **Bernoulli Naive Bayes Classifier**"
   ]
  },
  {
   "cell_type": "code",
   "execution_count": 7,
   "id": "477dad5f",
   "metadata": {
    "execution": {
     "iopub.execute_input": "2024-01-11T04:24:01.511285Z",
     "iopub.status.busy": "2024-01-11T04:24:01.510913Z",
     "iopub.status.idle": "2024-01-11T04:24:01.533357Z",
     "shell.execute_reply": "2024-01-11T04:24:01.532677Z"
    },
    "papermill": {
     "duration": 0.029163,
     "end_time": "2024-01-11T04:24:01.534964",
     "exception": false,
     "start_time": "2024-01-11T04:24:01.505801",
     "status": "completed"
    },
    "tags": []
   },
   "outputs": [
    {
     "data": {
      "text/html": [
       "<div>\n",
       "<style scoped>\n",
       "    .dataframe tbody tr th:only-of-type {\n",
       "        vertical-align: middle;\n",
       "    }\n",
       "\n",
       "    .dataframe tbody tr th {\n",
       "        vertical-align: top;\n",
       "    }\n",
       "\n",
       "    .dataframe thead th {\n",
       "        text-align: right;\n",
       "    }\n",
       "</style>\n",
       "<table border=\"1\" class=\"dataframe\">\n",
       "  <thead>\n",
       "    <tr style=\"text-align: right;\">\n",
       "      <th></th>\n",
       "      <th>Transaction ID</th>\n",
       "      <th>Date</th>\n",
       "      <th>Customer ID</th>\n",
       "      <th>Gender</th>\n",
       "      <th>Age</th>\n",
       "      <th>Product Category</th>\n",
       "      <th>Quantity</th>\n",
       "      <th>Price per Unit</th>\n",
       "      <th>Total Amount</th>\n",
       "    </tr>\n",
       "  </thead>\n",
       "  <tbody>\n",
       "    <tr>\n",
       "      <th>0</th>\n",
       "      <td>1</td>\n",
       "      <td>2023-11-24</td>\n",
       "      <td>CUST001</td>\n",
       "      <td>Male</td>\n",
       "      <td>34</td>\n",
       "      <td>Beauty</td>\n",
       "      <td>3</td>\n",
       "      <td>50</td>\n",
       "      <td>150</td>\n",
       "    </tr>\n",
       "    <tr>\n",
       "      <th>1</th>\n",
       "      <td>2</td>\n",
       "      <td>2023-02-27</td>\n",
       "      <td>CUST002</td>\n",
       "      <td>Female</td>\n",
       "      <td>26</td>\n",
       "      <td>Clothing</td>\n",
       "      <td>2</td>\n",
       "      <td>500</td>\n",
       "      <td>1000</td>\n",
       "    </tr>\n",
       "    <tr>\n",
       "      <th>2</th>\n",
       "      <td>3</td>\n",
       "      <td>2023-01-13</td>\n",
       "      <td>CUST003</td>\n",
       "      <td>Male</td>\n",
       "      <td>50</td>\n",
       "      <td>Electronics</td>\n",
       "      <td>1</td>\n",
       "      <td>30</td>\n",
       "      <td>30</td>\n",
       "    </tr>\n",
       "    <tr>\n",
       "      <th>3</th>\n",
       "      <td>4</td>\n",
       "      <td>2023-05-21</td>\n",
       "      <td>CUST004</td>\n",
       "      <td>Male</td>\n",
       "      <td>37</td>\n",
       "      <td>Clothing</td>\n",
       "      <td>1</td>\n",
       "      <td>500</td>\n",
       "      <td>500</td>\n",
       "    </tr>\n",
       "    <tr>\n",
       "      <th>4</th>\n",
       "      <td>5</td>\n",
       "      <td>2023-05-06</td>\n",
       "      <td>CUST005</td>\n",
       "      <td>Male</td>\n",
       "      <td>30</td>\n",
       "      <td>Beauty</td>\n",
       "      <td>2</td>\n",
       "      <td>50</td>\n",
       "      <td>100</td>\n",
       "    </tr>\n",
       "  </tbody>\n",
       "</table>\n",
       "</div>"
      ],
      "text/plain": [
       "   Transaction ID        Date Customer ID  Gender  Age Product Category  \\\n",
       "0               1  2023-11-24     CUST001    Male   34           Beauty   \n",
       "1               2  2023-02-27     CUST002  Female   26         Clothing   \n",
       "2               3  2023-01-13     CUST003    Male   50      Electronics   \n",
       "3               4  2023-05-21     CUST004    Male   37         Clothing   \n",
       "4               5  2023-05-06     CUST005    Male   30           Beauty   \n",
       "\n",
       "   Quantity  Price per Unit  Total Amount  \n",
       "0         3              50           150  \n",
       "1         2             500          1000  \n",
       "2         1              30            30  \n",
       "3         1             500           500  \n",
       "4         2              50           100  "
      ]
     },
     "execution_count": 7,
     "metadata": {},
     "output_type": "execute_result"
    }
   ],
   "source": [
    "retail_data = pd.read_csv('/kaggle/input/retail-sales-dataset/retail_sales_dataset.csv')\n",
    "retail_data.head()"
   ]
  },
  {
   "cell_type": "code",
   "execution_count": 8,
   "id": "8d30557f",
   "metadata": {
    "execution": {
     "iopub.execute_input": "2024-01-11T04:24:01.545556Z",
     "iopub.status.busy": "2024-01-11T04:24:01.544936Z",
     "iopub.status.idle": "2024-01-11T04:24:01.553889Z",
     "shell.execute_reply": "2024-01-11T04:24:01.552543Z"
    },
    "papermill": {
     "duration": 0.016702,
     "end_time": "2024-01-11T04:24:01.556148",
     "exception": false,
     "start_time": "2024-01-11T04:24:01.539446",
     "status": "completed"
    },
    "tags": []
   },
   "outputs": [
    {
     "data": {
      "text/plain": [
       "Transaction ID      0\n",
       "Date                0\n",
       "Customer ID         0\n",
       "Gender              0\n",
       "Age                 0\n",
       "Product Category    0\n",
       "Quantity            0\n",
       "Price per Unit      0\n",
       "Total Amount        0\n",
       "dtype: int64"
      ]
     },
     "execution_count": 8,
     "metadata": {},
     "output_type": "execute_result"
    }
   ],
   "source": [
    "retail_data.isnull().sum()"
   ]
  },
  {
   "cell_type": "code",
   "execution_count": 9,
   "id": "99c453d5",
   "metadata": {
    "execution": {
     "iopub.execute_input": "2024-01-11T04:24:01.566668Z",
     "iopub.status.busy": "2024-01-11T04:24:01.565793Z",
     "iopub.status.idle": "2024-01-11T04:24:01.572532Z",
     "shell.execute_reply": "2024-01-11T04:24:01.571495Z"
    },
    "papermill": {
     "duration": 0.014021,
     "end_time": "2024-01-11T04:24:01.574455",
     "exception": false,
     "start_time": "2024-01-11T04:24:01.560434",
     "status": "completed"
    },
    "tags": []
   },
   "outputs": [
    {
     "data": {
      "text/plain": [
       "Index(['Transaction ID', 'Date', 'Customer ID', 'Gender', 'Age',\n",
       "       'Product Category', 'Quantity', 'Price per Unit', 'Total Amount'],\n",
       "      dtype='object')"
      ]
     },
     "execution_count": 9,
     "metadata": {},
     "output_type": "execute_result"
    }
   ],
   "source": [
    "retail_data.columns"
   ]
  }
 ],
 "metadata": {
  "kaggle": {
   "accelerator": "none",
   "dataSources": [
    {
     "datasetId": 3655505,
     "sourceId": 6347913,
     "sourceType": "datasetVersion"
    },
    {
     "datasetId": 4116473,
     "sourceId": 7134305,
     "sourceType": "datasetVersion"
    }
   ],
   "dockerImageVersionId": 30626,
   "isGpuEnabled": false,
   "isInternetEnabled": true,
   "language": "python",
   "sourceType": "notebook"
  },
  "kernelspec": {
   "display_name": "Python 3",
   "language": "python",
   "name": "python3"
  },
  "language_info": {
   "codemirror_mode": {
    "name": "ipython",
    "version": 3
   },
   "file_extension": ".py",
   "mimetype": "text/x-python",
   "name": "python",
   "nbconvert_exporter": "python",
   "pygments_lexer": "ipython3",
   "version": "3.10.12"
  },
  "papermill": {
   "default_parameters": {},
   "duration": 5.532672,
   "end_time": "2024-01-11T04:24:02.099794",
   "environment_variables": {},
   "exception": null,
   "input_path": "__notebook__.ipynb",
   "output_path": "__notebook__.ipynb",
   "parameters": {},
   "start_time": "2024-01-11T04:23:56.567122",
   "version": "2.4.0"
  }
 },
 "nbformat": 4,
 "nbformat_minor": 5
}
